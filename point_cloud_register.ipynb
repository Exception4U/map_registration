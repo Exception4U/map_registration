{
 "cells": [
  {
   "cell_type": "code",
   "execution_count": 1,
   "metadata": {
    "collapsed": true
   },
   "outputs": [],
   "source": [
    "import scipy.io as sio\n",
    "import numpy as np\n",
    "# tracks = sio.loadmat('GTSAM_tracks.mat')\n",
    "# tracks = tracks['results']\n",
    "\n",
    "'''maintain circular queue for GTSAM oordinates to publish'''\n",
    "from collections import deque\n",
    "# ringbuff = deque(tracks, len(tracks))\n",
    "# a = ringbuff.pop()"
   ]
  },
  {
   "cell_type": "code",
   "execution_count": 2,
   "metadata": {
    "collapsed": false
   },
   "outputs": [],
   "source": [
    "#for 3d coordinated use this code instead of above code\n",
    "#read constraints which will be our factor graphs\n",
    "# file1 = open(\"/home/iiith/abhishek/Map-merging/build/data/traj1_traj2_with_inliers.g2o\",'r')\n",
    "file1 = open(\"/home/iiith/codes/general/3d_1on3_incremental_isam.g2o\",'r')\n",
    "# file1 = open(\"/home/iiith/abhishek/MultiRobot-2.0/3d/build/isamnfg.g2o\",'r')\n",
    "factors = []\n",
    "for i in file1:\n",
    "    if len(i.split())<=9:\n",
    "        values1 = i.split()[1:9]\n",
    "#         import pdb;pdbD.set_trace()\n",
    "        prev_frame=int(values1[0])\n",
    "#         next_frame=int(values1[1])\n",
    "        x=float(values1[1])\n",
    "        y=float(values1[2])\n",
    "        z =float(values1[3])\n",
    "        qx = float(values1[4])\n",
    "        qy = float(values1[5])\n",
    "        qz = float(values1[6])\n",
    "        qw = float(values1[7])\n",
    "        factors.append([x,y,z,qx,qy,qz,qw])\n",
    "file1.close()\n",
    "tracks=np.array(factors)\n",
    "ringbuff = deque(tracks, len(tracks))"
   ]
  },
  {
   "cell_type": "code",
   "execution_count": 3,
   "metadata": {
    "collapsed": false
   },
   "outputs": [],
   "source": [
    "#if we have loop 3 first in g2o file and then loop 1 then use this code to invert\n",
    "\n",
    "track_3 = tracks[0:1198]\n",
    "track_1 = tracks[1198:]\n",
    "track_inverted = np.zeros((1926,7))\n",
    "track_inverted[0:728] = track_1[0:728]\n",
    "track_inverted[728:] = track_3[0:]\n",
    "\n",
    "track_inverted = track_inverted[1:]\n",
    "#double ended queue is filled again\n",
    "tracks = track_inverted\n",
    "ringbuff = deque(tracks, len(tracks))"
   ]
  },
  {
   "cell_type": "code",
   "execution_count": 4,
   "metadata": {
    "collapsed": false
   },
   "outputs": [],
   "source": [
    "#!/usr/bin/env python  \n",
    "import roslib\n",
    "import math\n",
    "from nav_msgs.msg import Odometry\n",
    "import rospy\n",
    "import tf\n",
    "from geometry_msgs.msg import Point, Pose, Quaternion, Twist, Vector3\n",
    "import message_filters\n",
    "from sensor_msgs.msg import sensor_msgs\n",
    "\n",
    "\n",
    "pub = rospy.Publisher('/GTSAM/odometry', Odometry, queue_size=10)\n",
    "\n",
    "def publish_tf(msg1,msg2):\n",
    "    global ringbuff\n",
    "    global pub\n",
    "    pose= ringbuff.popleft()\n",
    "    br = tf.TransformBroadcaster()\n",
    "#     x,y,z,roll,pitch,yaw = (pose[0],0,pose[1],0,pose[2],0)\n",
    "    Tr = np.array([pose[0],pose[1],0])\n",
    "    vRg = np.array([[1,0,0],[0,0,-1],[0,1,0]])\n",
    "    Tr = np.matmul(vRg,Tr)\n",
    "    br.sendTransform((pose[0],pose[1],pose[2]),\n",
    "                     (pose[3], pose[4],pose[5],pose[6]),\n",
    "                     msg1.header.stamp,\n",
    "                     '/zed_tracked_frame',\n",
    "                     \"odom\")\n",
    "    pose_3d = Odometry()\n",
    "    pose_3d.header.stamp = msg1.header.stamp\n",
    "    pose_3d.header.frame_id='odom'\n",
    "    pose_3d.child_frame_id='zed_tracked_frame'\n",
    "#     angles = tf.transformations.quaternion_from_euler(pose[3], pose[4],pose[5])\n",
    "    pose_3d.pose.pose = Pose(Point(pose[0],pose[1],pose[2]),Quaternion(pose[3], pose[4],pose[5],pose[6]))\n",
    "    pub.publish(pose_3d)\n",
    "    \n",
    "\n",
    "if __name__ == '__main__':\n",
    "    rospy.init_node('GTSAM_track')\n",
    "#     rospy.Subscriber('/stereo_odometer/odometry',\n",
    "#                      Odometry,\n",
    "#                      publish_tf)\n",
    "    I1 = message_filters.Subscriber(\"/camera/left/image_rect_color\", sensor_msgs.msg.Image)\n",
    "    I2 =  message_filters.Subscriber(\"/camera/right/image_rect_color\", sensor_msgs.msg.Image)\n",
    "    ts = message_filters.TimeSynchronizer([I1, I2], 10)\n",
    "    ts.registerCallback(publish_tf)\n",
    "#     rospy.publish\n",
    "    rospy.spin()\n",
    "        "
   ]
  },
  {
   "cell_type": "code",
   "execution_count": null,
   "metadata": {
    "collapsed": true
   },
   "outputs": [],
   "source": []
  }
 ],
 "metadata": {
  "kernelspec": {
   "display_name": "Python 2",
   "language": "python",
   "name": "python2"
  },
  "language_info": {
   "codemirror_mode": {
    "name": "ipython",
    "version": 2
   },
   "file_extension": ".py",
   "mimetype": "text/x-python",
   "name": "python",
   "nbconvert_exporter": "python",
   "pygments_lexer": "ipython2",
   "version": "2.7.6"
  },
  "widgets": {
   "state": {},
   "version": "1.1.2"
  }
 },
 "nbformat": 4,
 "nbformat_minor": 0
}
