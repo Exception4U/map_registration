{
 "cells": [
  {
   "cell_type": "code",
   "execution_count": 1,
   "metadata": {
    "collapsed": false
   },
   "outputs": [],
   "source": [
    "import scipy.io as sio\n",
    "import numpy as np\n",
    "# tracks = sio.loadmat('GTSAM_tracks.mat')\n",
    "# tracks = tracks['results']\n",
    "\n",
    "'''maintain circular queue for GTSAM oordinates to publish'''\n",
    "from collections import deque\n",
    "# ringbuff = deque(tracks, len(tracks))\n",
    "# a = ringbuff.pop()"
   ]
  },
  {
   "cell_type": "code",
   "execution_count": 5,
   "metadata": {
    "collapsed": false
   },
   "outputs": [],
   "source": [
    "#read constraints which will be our factor graphs\n",
    "# file1 = open(\"/home/iiith/abhishek/Map-merging/build/data/traj1_traj2_with_inliers.g2o\",'r')\n",
    "file1 = open(\"/home/iiith/codes/general/3d_isam_merged.g2o\",'r')\n",
    "factors = []\n",
    "for i in file1:\n",
    "    if len(i.split())>2:\n",
    "        values1 = i.split()[1:6]\n",
    "#         import pdb;pdbD.set_trace()\n",
    "        prev_frame=int(values1[0])\n",
    "#         next_frame=int(values1[1])\n",
    "        x=float(values1[1])\n",
    "        y=float(values1[2])\n",
    "        theta =float(values1[3])\n",
    "        factors.append([x,y,theta])\n",
    "file1.close()\n",
    "tracks=np.array(factors)\n",
    "ringbuff = deque(tracks, len(tracks))"
   ]
  },
  {
   "cell_type": "code",
   "execution_count": 2,
   "metadata": {
    "collapsed": false
   },
   "outputs": [],
   "source": [
    "#for 3d coordinated use this code instead of above code\n",
    "#read constraints which will be our factor graphs\n",
    "# file1 = open(\"/home/iiith/abhishek/Map-merging/build/data/traj1_traj2_with_inliers.g2o\",'r')\n",
    "file1 = open(\"/home/iiith/codes/general/3d_isam_batch.g2o\",'r')\n",
    "factors = []\n",
    "for i in file1:\n",
    "    if len(i.split())<=9:\n",
    "        values1 = i.split()[1:9]\n",
    "#         import pdb;pdbD.set_trace()\n",
    "        prev_frame=int(values1[0])\n",
    "#         next_frame=int(values1[1])\n",
    "        x=float(values1[1])\n",
    "        y=float(values1[2])\n",
    "        z =float(values1[3])\n",
    "        qx = float(values1[4])\n",
    "        qy = float(values1[5])\n",
    "        qz = float(values1[6])\n",
    "        qw = float(values1[7])\n",
    "        factors.append([x,y,z,qx,qy,qz,qw])\n",
    "file1.close()\n",
    "tracks=np.array(factors)\n",
    "ringbuff = deque(tracks, len(tracks))"
   ]
  },
  {
   "cell_type": "code",
   "execution_count": 3,
   "metadata": {
    "collapsed": false
   },
   "outputs": [],
   "source": [
    "track_3 = tracks[0:1198]\n",
    "track_1 = tracks[1198:]\n",
    "track_inverted = np.zeros((1926,7))\n",
    "track_inverted[0:728] = track_1[0:728]\n",
    "track_inverted[728:] = track_3[0:]"
   ]
  },
  {
   "cell_type": "code",
   "execution_count": 4,
   "metadata": {
    "collapsed": false
   },
   "outputs": [],
   "source": [
    "tracks = track_inverted\n",
    "ringbuff = deque(tracks, len(tracks))"
   ]
  },
  {
   "cell_type": "code",
   "execution_count": 7,
   "metadata": {
    "collapsed": false
   },
   "outputs": [],
   "source": [
    "#!/usr/bin/env python  \n",
    "import roslib\n",
    "import math\n",
    "from nav_msgs.msg import Odometry\n",
    "import rospy\n",
    "import tf\n",
    "from geometry_msgs.msg import Point, Pose, Quaternion, Twist, Vector3\n",
    "import message_filters\n",
    "from sensor_msgs.msg import sensor_msgs\n",
    "\n",
    "\n",
    "pub = rospy.Publisher('/GTSAM/odometry', Odometry, queue_size=10)\n",
    "\n",
    "def publish_tf(msg1,msg2):\n",
    "    global ringbuff\n",
    "    global pub\n",
    "    pose= ringbuff.popleft()\n",
    "    br = tf.TransformBroadcaster()\n",
    "#     x,y,z,roll,pitch,yaw = (pose[0],0,pose[1],0,pose[2],0)\n",
    "    Tr = np.array([pose[0],pose[1],0])\n",
    "    vRg = np.array([[1,0,0],[0,0,-1],[0,1,0]])\n",
    "    Tr = np.matmul(vRg,Tr)\n",
    "    br.sendTransform((pose[0],pose[1],pose[2]),\n",
    "                     (pose[3], pose[4],pose[5],pose[6]),\n",
    "                     msg1.header.stamp,\n",
    "                     '/zed_tracked_frame',\n",
    "                     \"odom\")\n",
    "    pose_3d = Odometry()\n",
    "    pose_3d.header.stamp = msg1.header.stamp\n",
    "    pose_3d.header.frame_id='odom'\n",
    "    pose_3d.child_frame_id='zed_tracked_frame'\n",
    "#     angles = tf.transformations.quaternion_from_euler(pose[3], pose[4],pose[5])\n",
    "    pose_3d.pose.pose = Pose(Point(pose[0],pose[1],pose[2]),Quaternion(pose[3], pose[4],pose[5],pose[6]))\n",
    "    pub.publish(pose_3d)\n",
    "    \n",
    "\n",
    "if __name__ == '__main__':\n",
    "    rospy.init_node('GTSAM_track')\n",
    "#     rospy.Subscriber('/stereo_odometer/odometry',\n",
    "#                      Odometry,\n",
    "#                      publish_tf)\n",
    "    I1 = message_filters.Subscriber(\"/camera/left/image_rect_color\", sensor_msgs.msg.Image)\n",
    "    I2 =  message_filters.Subscriber(\"/camera/right/image_rect_color\", sensor_msgs.msg.Image)\n",
    "    ts = message_filters.TimeSynchronizer([I1, I2], 10)\n",
    "    ts.registerCallback(publish_tf)\n",
    "#     rospy.publish\n",
    "    rospy.spin()\n",
    "        "
   ]
  },
  {
   "cell_type": "code",
   "execution_count": 1,
   "metadata": {
    "collapsed": false
   },
   "outputs": [
    {
     "ename": "NameError",
     "evalue": "name 'tracks' is not defined",
     "output_type": "error",
     "traceback": [
      "\u001b[1;31m---------------------------------------------------------------------------\u001b[0m",
      "\u001b[1;31mNameError\u001b[0m                                 Traceback (most recent call last)",
      "\u001b[1;32m<ipython-input-1-4985d5b6dd37>\u001b[0m in \u001b[0;36m<module>\u001b[1;34m()\u001b[0m\n\u001b[0;32m      1\u001b[0m \u001b[1;32mimport\u001b[0m \u001b[0mmath\u001b[0m\u001b[1;33m\u001b[0m\u001b[0m\n\u001b[1;32m----> 2\u001b[1;33m \u001b[0mx0\u001b[0m\u001b[1;33m,\u001b[0m \u001b[0my0\u001b[0m\u001b[1;33m=\u001b[0m \u001b[1;33m(\u001b[0m\u001b[0mtracks\u001b[0m\u001b[1;33m[\u001b[0m\u001b[1;36m0\u001b[0m\u001b[1;33m,\u001b[0m\u001b[1;36m0\u001b[0m\u001b[1;33m]\u001b[0m\u001b[1;33m,\u001b[0m\u001b[0mtracks\u001b[0m\u001b[1;33m[\u001b[0m\u001b[1;36m0\u001b[0m\u001b[1;33m,\u001b[0m\u001b[1;36m1\u001b[0m\u001b[1;33m]\u001b[0m\u001b[1;33m)\u001b[0m\u001b[1;33m\u001b[0m\u001b[0m\n\u001b[0m\u001b[0;32m      3\u001b[0m \u001b[1;32mfor\u001b[0m \u001b[0mi\u001b[0m \u001b[1;32min\u001b[0m \u001b[0mrange\u001b[0m\u001b[1;33m(\u001b[0m\u001b[1;36m1\u001b[0m\u001b[1;33m,\u001b[0m\u001b[0mlen\u001b[0m\u001b[1;33m(\u001b[0m\u001b[0mtracks\u001b[0m\u001b[1;33m)\u001b[0m\u001b[1;33m)\u001b[0m\u001b[1;33m:\u001b[0m\u001b[1;33m\u001b[0m\u001b[0m\n\u001b[0;32m      4\u001b[0m     \u001b[0mx1\u001b[0m\u001b[1;33m,\u001b[0m \u001b[0my1\u001b[0m \u001b[1;33m=\u001b[0m \u001b[1;33m(\u001b[0m\u001b[0mtracks\u001b[0m\u001b[1;33m[\u001b[0m\u001b[0mi\u001b[0m\u001b[1;33m,\u001b[0m\u001b[1;36m0\u001b[0m\u001b[1;33m]\u001b[0m\u001b[1;33m,\u001b[0m\u001b[0mtracks\u001b[0m\u001b[1;33m[\u001b[0m\u001b[0mi\u001b[0m\u001b[1;33m,\u001b[0m\u001b[1;36m1\u001b[0m\u001b[1;33m]\u001b[0m\u001b[1;33m)\u001b[0m\u001b[1;33m\u001b[0m\u001b[0m\n\u001b[0;32m      5\u001b[0m     \u001b[0mtheta\u001b[0m\u001b[1;33m=\u001b[0m \u001b[0mmath\u001b[0m\u001b[1;33m.\u001b[0m\u001b[0matan2\u001b[0m\u001b[1;33m(\u001b[0m\u001b[0mfloat\u001b[0m\u001b[1;33m(\u001b[0m\u001b[0my1\u001b[0m\u001b[1;33m)\u001b[0m\u001b[1;33m,\u001b[0m\u001b[0mfloat\u001b[0m\u001b[1;33m(\u001b[0m\u001b[0mx1\u001b[0m\u001b[1;33m)\u001b[0m\u001b[1;33m)\u001b[0m\u001b[1;33m\u001b[0m\u001b[0m\n",
      "\u001b[1;31mNameError\u001b[0m: name 'tracks' is not defined"
     ]
    }
   ],
   "source": [
    "import math\n",
    "x0, y0= (tracks[0,0],tracks[0,1])\n",
    "for i in range(1,len(tracks)):\n",
    "    x1, y1 = (tracks[i,0],tracks[i,1])\n",
    "    theta= math.atan2(float(y1),float(x1))\n",
    "#     theta = math.asin(theta)\n",
    "    tracks[i,2]=theta#+tracks[i-1,2]\n",
    "#     tracks[i,2] = tracks[i,2] % (math.pi * 2)\n",
    "    x0, y0 = (x1,y1)\n",
    "ringbuff = deque(tracks, len(tracks))"
   ]
  },
  {
   "cell_type": "code",
   "execution_count": 2,
   "metadata": {
    "collapsed": false
   },
   "outputs": [
    {
     "ename": "NameError",
     "evalue": "name 'tracks' is not defined",
     "output_type": "error",
     "traceback": [
      "\u001b[1;31m---------------------------------------------------------------------------\u001b[0m",
      "\u001b[1;31mNameError\u001b[0m                                 Traceback (most recent call last)",
      "\u001b[1;32m<ipython-input-2-33b41c72779a>\u001b[0m in \u001b[0;36m<module>\u001b[1;34m()\u001b[0m\n\u001b[0;32m      1\u001b[0m \u001b[1;32mimport\u001b[0m \u001b[0mmatplotlib\u001b[0m\u001b[1;33m.\u001b[0m\u001b[0mpyplot\u001b[0m \u001b[1;32mas\u001b[0m \u001b[0mplt\u001b[0m\u001b[1;33m\u001b[0m\u001b[0m\n\u001b[1;32m----> 2\u001b[1;33m \u001b[0mplt\u001b[0m\u001b[1;33m.\u001b[0m\u001b[0mplot\u001b[0m\u001b[1;33m(\u001b[0m\u001b[0mtracks\u001b[0m\u001b[1;33m[\u001b[0m\u001b[1;33m:\u001b[0m\u001b[1;33m,\u001b[0m\u001b[1;36m0\u001b[0m\u001b[1;33m]\u001b[0m\u001b[1;33m,\u001b[0m\u001b[0mtracks\u001b[0m\u001b[1;33m[\u001b[0m\u001b[1;33m:\u001b[0m\u001b[1;33m,\u001b[0m\u001b[1;36m1\u001b[0m\u001b[1;33m]\u001b[0m\u001b[1;33m,\u001b[0m\u001b[1;34m'o'\u001b[0m\u001b[1;33m)\u001b[0m\u001b[1;33m\u001b[0m\u001b[0m\n\u001b[0m\u001b[0;32m      3\u001b[0m \u001b[0mplt\u001b[0m\u001b[1;33m.\u001b[0m\u001b[0mshow\u001b[0m\u001b[1;33m(\u001b[0m\u001b[1;33m)\u001b[0m\u001b[1;33m\u001b[0m\u001b[0m\n",
      "\u001b[1;31mNameError\u001b[0m: name 'tracks' is not defined"
     ]
    }
   ],
   "source": [
    "import matplotlib.pyplot as plt\n",
    "plt.plot(tracks[:,0],tracks[:,1],'o')\n",
    "plt.show()"
   ]
  },
  {
   "cell_type": "code",
   "execution_count": 5,
   "metadata": {
    "collapsed": false
   },
   "outputs": [
    {
     "data": {
      "text/plain": [
       "array([  0.00000000e+00,   1.00000000e+00,   0.00000000e+00,\n",
       "         6.12323400e-17])"
      ]
     },
     "execution_count": 5,
     "metadata": {},
     "output_type": "execute_result"
    }
   ],
   "source": [
    "import message_filters\n",
    "from sensor_msgs.msg import Image, CameraInfo\n",
    "\n",
    "def callback(image, camera_info):\n",
    "  # Solve all of perception here...\n",
    "\n",
    "image_sub = message_filters.Subscriber('image', Image)\n",
    "info_sub = message_filters.Subscriber('camera_info', CameraInfo)\n",
    "\n",
    "ts = message_filters.TimeSynchronizer([image_sub, info_sub], 10)\n",
    "ts.registerCallback(callback)\n",
    "rospy.spin()"
   ]
  },
  {
   "cell_type": "code",
   "execution_count": 7,
   "metadata": {
    "collapsed": false
   },
   "outputs": [],
   "source": [
    "tracks = np.array(tracks)\n",
    "sio.savemat('manual_theta.mat',{'manual_theta_tracks':tracks})\n"
   ]
  },
  {
   "cell_type": "code",
   "execution_count": 27,
   "metadata": {
    "collapsed": false
   },
   "outputs": [
    {
     "data": {
      "text/plain": [
       "4.39822971502571"
      ]
     },
     "execution_count": 27,
     "metadata": {},
     "output_type": "execute_result"
    }
   ],
   "source": [
    "(-math.pi *4.3)  % math.pi *2"
   ]
  },
  {
   "cell_type": "code",
   "execution_count": 4,
   "metadata": {
    "collapsed": false
   },
   "outputs": [],
   "source": [
    "import numpy"
   ]
  },
  {
   "cell_type": "code",
   "execution_count": 7,
   "metadata": {
    "collapsed": true
   },
   "outputs": [],
   "source": [
    "x,y,z=[1,1,1]\n",
    "pose = np.array([x,y,z])\n",
    "rot = np.array([[0,1,0],[-1,0,0],[0,0,1]]"
   ]
  },
  {
   "cell_type": "code",
   "execution_count": 5,
   "metadata": {
    "collapsed": false
   },
   "outputs": [],
   "source": [
    "import numpy as np"
   ]
  },
  {
   "cell_type": "code",
   "execution_count": 5,
   "metadata": {
    "collapsed": false
   },
   "outputs": [],
   "source": [
    "# A = np.array([])\n",
    "vRg = np.array([[1,0,0],[0,0,-1],[0,1,0]])"
   ]
  },
  {
   "cell_type": "code",
   "execution_count": 6,
   "metadata": {
    "collapsed": false
   },
   "outputs": [],
   "source": [
    "Tr = np.array([1,2,3])\n",
    "Tr = np.matmul(vRg,Tr)"
   ]
  },
  {
   "cell_type": "code",
   "execution_count": 8,
   "metadata": {
    "collapsed": false
   },
   "outputs": [
    {
     "data": {
      "text/plain": [
       "array([-0.71828702,  0.31062245,  0.44443511,  0.43595284])"
      ]
     },
     "execution_count": 8,
     "metadata": {},
     "output_type": "execute_result"
    }
   ],
   "source": [
    "tf.transformations.quaternion_from_euler(1,2,3)"
   ]
  },
  {
   "cell_type": "code",
   "execution_count": null,
   "metadata": {
    "collapsed": true
   },
   "outputs": [],
   "source": []
  }
 ],
 "metadata": {
  "kernelspec": {
   "display_name": "Python 2",
   "language": "python",
   "name": "python2"
  },
  "language_info": {
   "codemirror_mode": {
    "name": "ipython",
    "version": 2
   },
   "file_extension": ".py",
   "mimetype": "text/x-python",
   "name": "python",
   "nbconvert_exporter": "python",
   "pygments_lexer": "ipython2",
   "version": "2.7.6"
  },
  "widgets": {
   "state": {},
   "version": "1.1.2"
  }
 },
 "nbformat": 4,
 "nbformat_minor": 0
}
